{
 "cells": [
  {
   "cell_type": "markdown",
   "metadata": {},
   "source": [
    "#### ELEC-E8740 Basics of Sensor Fusion <br>\n",
    "#### Exam 03.12.2021<br>\n",
    "#### Hoang Nguyen Khac 533263"
   ]
  },
  {
   "cell_type": "markdown",
   "metadata": {},
   "source": [
    "### 1) Describe briefly the following terms and what is their significance in sensor fusion:\n",
    "- a) differential equation (1p)\n",
    "\n",
    "- b) state-space model (1p)\n",
    "\n",
    "- c) Euler method (1p)\n",
    "\n",
    "- d) Euler-Maruyama method (1p)\n",
    "\n",
    "- e) Kalman filter (1p)\n",
    "\n",
    "- f) Extended Kalman filter (1p)"
   ]
  },
  {
   "cell_type": "markdown",
   "metadata": {},
   "source": [
    "#### a) Differential equation\n",
    "- A differential equation is an equation with one or more derivatives of a function. In sensor fusion, differential equations (in continuous time) or difference equations (in discrete time) can be used to describe the evolution of the states of a dynamic process between samples. Differential equations can also be used to derive state-space models that turn an Lth order differential (or difference) equation into a ﬁrst order vector-valued differential (or difference) equation."
   ]
  },
  {
   "cell_type": "markdown",
   "metadata": {},
   "source": [
    "#### b) State-space model\n",
    "- State-space model is a mathematical model of a physical system as a set of input, output and state variables related by first-order differential equations (or difference equations). In other words, state-space model is a first-order vector-valued differential equation converted from an Lth order differential equation.\n",
    "- State-space model plays a central role in sensor fusion because it can be used to describe the states of system (make use with the state prediction) and to describe the measurements."
   ]
  },
  {
   "cell_type": "markdown",
   "metadata": {},
   "source": [
    "#### c) Euler method\n",
    "- In general, Euler method is a first order numerical procedure for solving ordinary differential equations with a given initial value.\n",
    "- In sensor fusion, it is a method to discretize deterministic non-linear dynamic models. "
   ]
  },
  {
   "cell_type": "markdown",
   "metadata": {},
   "source": [
    "#### d)Euler-Maruyama method\n",
    "- The Euler discretization is simple to implement, but it does not work for stochastic dynamic models. This is when the Euler-Maruyama method is applied to solve the stochastic part in the integral. "
   ]
  },
  {
   "cell_type": "markdown",
   "metadata": {},
   "source": [
    "#### e)Kalman filter\n",
    "- It is a filtering algorithm for linear state-space models, which is used to solve the state estimation problem in linear state-space models\n",
    "- It consists of two steps: prediction (time update) and measurement update."
   ]
  },
  {
   "cell_type": "markdown",
   "metadata": {},
   "source": [
    "#### f)Extended Kalman filter\n",
    "- In non-linear state-space models, the closed-form solutions are normally not available, hence Kalman filter can not be applied. Extended Kalman filter is a version to use in non-linear dynamic models.\n",
    "- The method is based on a linearization using a Taylor series approximation of the non-linear dynamic and measurement models. After the linearization, the prediction and measurement update steps are similar to those of the Kalman filter method."
   ]
  }
 ],
 "metadata": {
  "kernelspec": {
   "display_name": "Python 3",
   "language": "python",
   "name": "python3"
  },
  "language_info": {
   "codemirror_mode": {
    "name": "ipython",
    "version": 3
   },
   "file_extension": ".py",
   "mimetype": "text/x-python",
   "name": "python",
   "nbconvert_exporter": "python",
   "pygments_lexer": "ipython3",
   "version": "3.9.5"
  }
 },
 "nbformat": 4,
 "nbformat_minor": 4
}
