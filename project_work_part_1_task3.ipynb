{
 "cells": [
  {
   "cell_type": "code",
   "execution_count": 1,
   "metadata": {},
   "outputs": [],
   "source": [
    "import numpy as np\n",
    "import pandas as pd\n",
    "import matplotlib.pyplot as plt\n",
    "from sklearn.linear_model import LinearRegression "
   ]
  },
  {
   "cell_type": "markdown",
   "metadata": {},
   "source": [
    "### Task 3\n",
    "- There are two columns in the measurement record log ﬁle. The ﬁrst represents the measured distance (in cm) and the second column represents the height (in pixel) measured from the terminal"
   ]
  },
  {
   "cell_type": "code",
   "execution_count": 2,
   "metadata": {},
   "outputs": [
    {
     "name": "stdout",
     "output_type": "stream",
     "text": [
      "Shape of the camera data is:  (1007, 8)\n",
      "Shape of the camera module data is:  (23, 2)\n"
     ]
    }
   ],
   "source": [
    "camera_data = pd.read_csv(r'camera_reading_task3.csv',header=None)\n",
    "camera_module = pd.read_csv(r'camera_module_calibration_task3.csv',header=None)\n",
    "\n",
    "print(\"Shape of the camera data is: \", camera_data.shape)\n",
    "print(\"Shape of the camera module data is: \", camera_module.shape)\n"
   ]
  },
  {
   "cell_type": "code",
   "execution_count": 3,
   "metadata": {},
   "outputs": [],
   "source": [
    "# pixel to cm conversion\n",
    "px2cm = 0.026458333\n",
    "\n",
    "# Distance of camera pinhole and the IR detector = 1.6 cm\n",
    "distance_pinhole_IR = 1.6 \n",
    "\n",
    "# Distance of the wall and the wooden list = 5cm\n",
    "distance_ww = 5\n",
    "\n",
    "h0 = 11.5 # cm\n",
    "\n",
    "# The distance between the QR code and the robot camera (in cm). In the description refered as x3\n",
    "distance = camera_module.iloc[:,0] \n",
    "\n",
    "# The height of qr code detected by the camera (from pixels to cm)\n",
    "height = camera_module.iloc[:,1] #*px2cm\n",
    "\n"
   ]
  },
  {
   "cell_type": "markdown",
   "metadata": {},
   "source": [
    "### Task 3a\n",
    "There are two columns in the measurement record log ﬁle. The ﬁrst represents the\n",
    "measured distance (in cm) and the second column represents the height (in pixel)\n",
    "measured from the terminal. You need to plot the data as described above and\n",
    "determine the gradient and bias. Write down the results in your report. Note that,\n",
    "you also need to consider the distance of the camera from the surface of the robot\n",
    "which is provided in readme.txt ﬁle with the data.There are two columns in the measurement record log ﬁle. The ﬁrst represents the\n",
    "measured distance (in cm) and the second column represents the height (in pixel)\n",
    "measured from the terminal. You need to plot the data as described above and\n",
    "determine the gradient and bias. Write down the results in your report. Note that,\n",
    "you also need to consider the distance of the camera from the surface of the robot\n",
    "which is provided in readme.txt ﬁle with the data.\n",
    "#### $\\begin{bmatrix} y_1 \\\\ y_2 \\end{bmatrix} = -\\frac{f}{x_3}\\begin{bmatrix} x_1 \\\\ x_2 \\end{bmatrix}$\n"
   ]
  },
  {
   "cell_type": "code",
   "execution_count": 4,
   "metadata": {},
   "outputs": [
    {
     "data": {
      "image/png": "[encoded data removed]",
      "text/plain": [
       "<Figure size 800x640 with 1 Axes>"
      ]
     },
     "metadata": {
      "needs_background": "light"
     },
     "output_type": "display_data"
    }
   ],
   "source": [
    "# Plotting the linear acceleration \n",
    "plt.figure(1 ,figsize=(10, 8), dpi=80)\n",
    "\n",
    "plt.plot(distance, 1/height,'b.')\n",
    "plt.grid(b=None, which='major', axis='both')\n",
    "plt.title(\"Relation between distance of QR-codes from the camera and detected height.\")\n",
    "plt.xlabel(\"1/height \\n [1/px]\")\n",
    "plt.ylabel(\" distance \\n[cm]\")\n",
    "\n",
    "plt.savefig('camera_module_task3.png')\n",
    "plt.show()"
   ]
  },
  {
   "cell_type": "code",
   "execution_count": 5,
   "metadata": {},
   "outputs": [
    {
     "name": "stdout",
     "output_type": "stream",
     "text": [
      "Gradient: 159.65820606543207\n",
      "Bias: -3.2801897881800066\n"
     ]
    }
   ],
   "source": [
    "# Finding weights and bias  \n",
    "\n",
    "# y = ax + b\n",
    "\n",
    "X = np.c_[1/(height*px2cm),np.ones(len(height))]\n",
    "Y = distance\n",
    "theta = np.linalg.inv(X.T.dot(X)).dot(X.T).dot(Y)\n",
    "\n",
    "b = theta[1]\n",
    "gradient = theta[0]\n",
    "\n",
    "print('Gradient:',gradient)\n",
    "print('Bias:',b)\n",
    "\n"
   ]
  },
  {
   "cell_type": "markdown",
   "metadata": {},
   "source": [
    "### Task 3b\n",
    "Determine the focal length in pixel from the Equation (3), given that the height h0\n",
    "of the QR-code is 11.5 cm.Determine the focal length in pixel from the Equation (3), given that the height h0\n",
    "of the QR-code is 11.5 cm.\n",
    "\n",
    "$x_3 = \\frac{h_0 f}{h}+ b$"
   ]
  },
  {
   "cell_type": "code",
   "execution_count": 6,
   "metadata": {},
   "outputs": [
    {
     "name": "stdout",
     "output_type": "stream",
     "text": [
      "Focal length is: 574.9523036713214\n"
     ]
    }
   ],
   "source": [
    "real_distance = distance + distance_pinhole_IR + distance_ww\n",
    "\n",
    "#height*x3 = h0*f + height*b\n",
    "f = (height / h0)*(real_distance - b)\n",
    "print('Focal length is:',np.mean(f))"
   ]
  },
  {
   "cell_type": "code",
   "execution_count": 7,
   "metadata": {},
   "outputs": [
    {
     "name": "stdout",
     "output_type": "stream",
     "text": [
      "0     627.337098\n",
      "1     617.275981\n",
      "2     608.809531\n",
      "3     602.899685\n",
      "4     601.295992\n",
      "5     593.594925\n",
      "6     586.742586\n",
      "7     583.347671\n",
      "8     579.507556\n",
      "9     576.526587\n",
      "10    568.328227\n",
      "11    570.543813\n",
      "12    561.030687\n",
      "13    564.540203\n",
      "14    556.321007\n",
      "15    563.733148\n",
      "16    549.426995\n",
      "17    552.491309\n",
      "18    553.816494\n",
      "19    553.402548\n",
      "20    551.249471\n",
      "21    547.357264\n",
      "22    554.324204\n",
      "dtype: float64\n"
     ]
    }
   ],
   "source": [
    "print(f)"
   ]
  },
  {
   "cell_type": "code",
   "execution_count": null,
   "metadata": {},
   "outputs": [],
   "source": []
  }
 ],
 "metadata": {
  "kernelspec": {
   "display_name": "Python 3",
   "language": "python",
   "name": "python3"
  },
  "language_info": {
   "codemirror_mode": {
    "name": "ipython",
    "version": 3
   },
   "file_extension": ".py",
   "mimetype": "text/x-python",
   "name": "python",
   "nbconvert_exporter": "python",
   "pygments_lexer": "ipython3",
   "version": "3.8.6"
  }
 },
 "nbformat": 4,
 "nbformat_minor": 4
}
