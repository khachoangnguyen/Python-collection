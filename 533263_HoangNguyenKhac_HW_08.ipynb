{
 "cells": [
  {
   "cell_type": "markdown",
   "metadata": {},
   "source": [
    "#### ELEC-E8740 Basics of Sensor Fusion <br>\n",
    "#### Homework 8 <br>\n",
    "#### Hoang Nguyen Khac 533263"
   ]
  },
  {
   "cell_type": "code",
   "execution_count": 35,
   "metadata": {},
   "outputs": [],
   "source": [
    "%matplotlib inline\n",
    "import numpy as np\n",
    "import scipy.linalg as linalg\n",
    "import scipy.integrate as integrate\n",
    "import math\n",
    "import matplotlib.pyplot as plt"
   ]
  },
  {
   "cell_type": "markdown",
   "metadata": {},
   "source": [
    "Given the scalar function\n",
    "$$\n",
    "\\dot x = a \\, x + u\n",
    "$$\n",
    "and \n",
    "$$\n",
    "x(0) = x_0, \\, a = -1/2, \\, x_0 = 3\n",
    "$$\n",
    "and \n",
    "$$\n",
    "u = u(t)\n",
    "$$\n",
    "is some input function."
   ]
  },
  {
   "cell_type": "code",
   "execution_count": 36,
   "metadata": {},
   "outputs": [],
   "source": [
    "t = np.linspace(0,10,100)\n",
    "x0 = 3\n",
    "a = -1/2\n",
    "dt = 0.1\n",
    "x = np.zeros((t.shape[0],2))\n",
    "u = 1\n"
   ]
  },
  {
   "cell_type": "markdown",
   "metadata": {},
   "source": [
    "#### a.\n",
    "Form discretization of the model with ZOH approximation in form\n",
    "$$\n",
    "x_n = f_n \\, x_{n−1} + l_n \\, u_{n−1}. \n",
    "$$\n",
    "where discretization step $\\Delta \\, t = 0.1$. <br>\n",
    "By definition\n",
    "$$\n",
    "\\begin{align}\n",
    "f_n &= e^{a \\, (t_n \\, - \\, t_{n-1})} \\\\\n",
    "l_n &= \\int_{t_{n-1}}^{t_n} e^{a \\, (t_n \\, - \\, t)} \\, dt \\\\\n",
    "l_n &= \\frac{1}{a}(e^{a(t_n-t_{n-1}})-1)\n",
    "\\end{align}\n",
    "$$"
   ]
  },
  {
   "cell_type": "code",
   "execution_count": 37,
   "metadata": {},
   "outputs": [],
   "source": [
    "def fn(a, t_n, t_n_1):\n",
    "    return np.exp(a*(t_n-t_n_1))\n",
    "\n",
    "def ln(a, t_n, t_n_1):\n",
    "    return (1/a)*(np.exp(a*(t_n-t_n_1))-1)"
   ]
  },
  {
   "cell_type": "markdown",
   "metadata": {},
   "source": [
    "#### b.\n",
    "By assuming that $u(t) = 1$, and $\\Delta \\, t = 0.1$ simulate trajectory of length\n",
    "100 steps from the discretized model."
   ]
  },
  {
   "cell_type": "code",
   "execution_count": 38,
   "metadata": {},
   "outputs": [],
   "source": [
    "cx = x0\n",
    "x[0,:] = cx\n",
    "\n",
    "for i in range(1,t.shape[0]):\n",
    "    cx = fn(a,t[i], t[i-1])*cx + ln(a, t[i], t[i-1])*u\n",
    "    x[i,:] = cx\n",
    "    i = i + 1"
   ]
  },
  {
   "cell_type": "markdown",
   "metadata": {},
   "source": [
    "#### c.\n",
    "Solving the equation with built-in ODE solver. "
   ]
  },
  {
   "cell_type": "code",
   "execution_count": 39,
   "metadata": {},
   "outputs": [],
   "source": [
    "def func(x,t):\n",
    "    return a*x + u\n",
    "\n",
    "x_ODE = integrate.odeint(func,x0,t)"
   ]
  },
  {
   "cell_type": "markdown",
   "metadata": {},
   "source": [
    "#### Visualizing the data"
   ]
  },
  {
   "cell_type": "code",
   "execution_count": 40,
   "metadata": {},
   "outputs": [
    {
     "data": {
      "image/png": "[encoded data removed]",
      "text/plain": [
       "<Figure size 432x288 with 1 Axes>"
      ]
     },
     "metadata": {
      "needs_background": "light"
     },
     "output_type": "display_data"
    }
   ],
   "source": [
    "plt.clf()\n",
    "\n",
    "plt.plot(t,x[:,1],'b', label='x')\n",
    "plt.plot(t,x_ODE,'g.', label='x_ODE')\n",
    "\n",
    "plt.xlabel('t')\n",
    "plt.ylabel('Function output')\n",
    "plt.legend(loc = 'upper right')\n",
    "plt.grid()\n",
    "plt.show()"
   ]
  }
 ],
 "metadata": {
  "kernelspec": {
   "display_name": "Python 3",
   "language": "python",
   "name": "python3"
  },
  "language_info": {
   "codemirror_mode": {
    "name": "ipython",
    "version": 3
   },
   "file_extension": ".py",
   "mimetype": "text/x-python",
   "name": "python",
   "nbconvert_exporter": "python",
   "pygments_lexer": "ipython3",
   "version": "3.8.6"
  }
 },
 "nbformat": 4,
 "nbformat_minor": 4
}
