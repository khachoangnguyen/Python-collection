{
 "cells": [
  {
   "cell_type": "markdown",
   "metadata": {},
   "source": [
    "#### ELEC-E8740 Basics of Sensor Fusion <br>\n",
    "#### Exam 03.12.2021<br>\n",
    "#### Hoang Nguyen Khac 533263"
   ]
  },
  {
   "cell_type": "markdown",
   "metadata": {},
   "source": [
    "### 2) Consider the scalar differential equation\n",
    "$$\n",
    "\\dot{x}(t) = fx(t) + u(t)\n",
    "$$\n",
    "$$\n",
    "x(0) = x_0\n",
    "$$\n",
    "where f and x0 are constants, and u(t) is a deterministic input.\n",
    "\n",
    "- a) Write down the solution to the differential equation (2p).\n",
    "\n",
    "- b) Form zero-order-hold (ZOH) discretization with a constant time step ∆t in the form\n",
    "    - $x_n = f_nx_{n-1} + l_nu_n$\n",
    "that is, find the expressions for fn and ln"
   ]
  },
  {
   "cell_type": "markdown",
   "metadata": {},
   "source": [
    "#### a) Solution of the differential equation\n",
    "Multiply both sides with $e^{-ft}$\n",
    "$$\n",
    "e^{-ft}\\dot{x}(t) - e^{-ft}fx(t) =  e^{-ft}u(t)\n",
    "$$\n",
    "It is equivalent to:\n",
    "$$\n",
    "\\frac{d}{dt}e^{-ft}x(t) = e^{-ft}u(t)\n",
    "$$\n",
    "Multiply $dt$ and take the integral from $t_{n-1}$ to $t_n$ for both sides\n",
    "$$\n",
    "\\int_{t_{n-1}}^{t_n}d[e^{-ft}x(t)] = \\int_{t_{n-1}}^{t_n} e^{-ft}u(t)dt\n",
    "$$\n",
    "It yields\n",
    "$$\n",
    "e^{-ft_n}x(t_n)-e^{-ft_{n-1}}x(t_{n-1}) = \\int_{t_{n-1}}^{t_n}e^{-ft}u(t)dt\n",
    "$$\n",
    "Solve for $x(t_n)$\n",
    "$$\n",
    "x(t_n) = e^{f(t_n-t_{n-1})}x(t_{n-1}) + \\int_{t_{n-1}}^{t_n}e^{f(t_n-t)}u(t)dt\n",
    "$$\n",
    "Denote $\\Delta t = t_n - t_{n-1}$, $x_n = x(t_n)$ and $x_{n-1} = x(t_{n-1}$): \n",
    "$$\n",
    "x_n = e^{f\\Delta t}x_{n-1} + \\int_{t_{n-1}}^{t_n}e^{f(t_n-t)}u(t)dt.\n",
    "$$"
   ]
  },
  {
   "cell_type": "markdown",
   "metadata": {},
   "source": [
    "#### b) Form ZOH discretization \n",
    "- u(t) is constant on the interval between $\\Delta t$ and can be denoted as $u_n$\n",
    "- The solution in part a) can be simplified as:\n",
    "$$\n",
    "x_n = e^{f\\Delta t}x_{n-1} + \\int_{t_{n-1}}^{t_n}e^{f(t_n-t)}dtu_n\n",
    "$$\n",
    "Define:\n",
    "$$\n",
    "f_n = e^{f\\Delta t},\n",
    "$$\n",
    "$$\n",
    "l_n = \\int_{t_{n-1}}^{t_n}e^{f(t_n-t)}dt.\n",
    "$$\n",
    "\n",
    "Then we have the ZOH discretization form of:\n",
    "$$\n",
    "x_n = f_nx_{n-1} + l_nu_n\n",
    "$$"
   ]
  }
 ],
 "metadata": {
  "kernelspec": {
   "display_name": "Python 3",
   "language": "python",
   "name": "python3"
  },
  "language_info": {
   "codemirror_mode": {
    "name": "ipython",
    "version": 3
   },
   "file_extension": ".py",
   "mimetype": "text/x-python",
   "name": "python",
   "nbconvert_exporter": "python",
   "pygments_lexer": "ipython3",
   "version": "3.9.5"
  }
 },
 "nbformat": 4,
 "nbformat_minor": 4
}
