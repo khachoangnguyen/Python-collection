{
 "cells": [
  {
   "cell_type": "markdown",
   "metadata": {},
   "source": [
    "# Exercise Round 7"
   ]
  },
  {
   "cell_type": "markdown",
   "metadata": {},
   "source": [
    "## Exercise 2\n",
    "### Imports"
   ]
  },
  {
   "cell_type": "code",
   "execution_count": 3,
   "metadata": {},
   "outputs": [],
   "source": [
    "%matplotlib inline\n",
    "import numpy as np\n",
    "import scipy.linalg as linalg\n",
    "import scipy.integrate as integrate\n",
    "import math\n",
    "import matplotlib.pyplot as plt"
   ]
  },
  {
   "cell_type": "markdown",
   "metadata": {},
   "source": [
    "### Define the ODE"
   ]
  },
  {
   "cell_type": "code",
   "execution_count": 2,
   "metadata": {},
   "outputs": [],
   "source": [
    "def f(x,lam):\n",
    "    return lam * x * (1 - x)"
   ]
  },
  {
   "cell_type": "markdown",
   "metadata": {},
   "source": [
    "### Closed-form solution"
   ]
  },
  {
   "cell_type": "code",
   "execution_count": 3,
   "metadata": {},
   "outputs": [],
   "source": [
    "def ode_sol(t,x0,lam):\n",
    "    return 1 / (1 + ((1 - x0) / x0) * np.exp(-lam*t))"
   ]
  },
  {
   "cell_type": "markdown",
   "metadata": {},
   "source": [
    "### Euler method"
   ]
  },
  {
   "cell_type": "code",
   "execution_count": 4,
   "metadata": {},
   "outputs": [
    {
     "name": "stdout",
     "output_type": "stream",
     "text": [
      "0.012934309733175164\n"
     ]
    },
    {
     "data": {
      "text/plain": [
       "[<matplotlib.lines.Line2D at 0x7fea408efe50>,\n",
       " <matplotlib.lines.Line2D at 0x7fea408eff10>]"
      ]
     },
     "execution_count": 4,
     "metadata": {},
     "output_type": "execute_result"
    },
    {
     "data": {
      "image/png": "[encoded data removed]",
      "text/plain": [
       "<Figure size 432x288 with 1 Axes>"
      ]
     },
     "metadata": {
      "needs_background": "light"
     },
     "output_type": "display_data"
    }
   ],
   "source": [
    "lam = 1.0\n",
    "x0  = 1.0/10.0\n",
    "\n",
    "t = np.linspace(0,10,100)\n",
    "\n",
    "x_euler = np.zeros((t.shape[0],))\n",
    "cx = x0\n",
    "x_euler[0] = cx\n",
    "for i in range(1,t.shape[0]):\n",
    "    dt = t[i] - t[i-1]\n",
    "    cx = cx + f(cx,lam) * dt\n",
    "    x_euler[i] = cx\n",
    "\n",
    "x = ode_sol(t,x0,lam)\n",
    "print(np.max(np.abs(x - x_euler)))\n",
    "    \n",
    "plt.clf()\n",
    "plt.plot(t,x_euler,t,x,'--')"
   ]
  },
  {
   "cell_type": "markdown",
   "metadata": {},
   "source": [
    "### 4th order Runge-Kutta"
   ]
  },
  {
   "cell_type": "code",
   "execution_count": 5,
   "metadata": {},
   "outputs": [
    {
     "name": "stdout",
     "output_type": "stream",
     "text": [
      "1.2426488005257141e-07\n"
     ]
    },
    {
     "data": {
      "text/plain": [
       "[<matplotlib.lines.Line2D at 0x7fea409798b0>,\n",
       " <matplotlib.lines.Line2D at 0x7fea40979a30>]"
      ]
     },
     "execution_count": 5,
     "metadata": {},
     "output_type": "execute_result"
    },
    {
     "data": {
      "image/png": "[encoded data removed]",
      "text/plain": [
       "<Figure size 432x288 with 1 Axes>"
      ]
     },
     "metadata": {
      "needs_background": "light"
     },
     "output_type": "display_data"
    }
   ],
   "source": [
    "t = np.linspace(0,10,100)\n",
    "\n",
    "x_rk4 = np.zeros((t.shape[0],))\n",
    "cx = x0\n",
    "x_rk4[0] = cx\n",
    "for i in range(1,t.shape[0]):\n",
    "    dt = t[i] - t[i-1]\n",
    "    cx1 = cx;\n",
    "    dx1 = f(cx1,lam) * dt;\n",
    "    cx2 = cx + 0.5 * dx1;\n",
    "    dx2 = f(cx2,lam) * dt;\n",
    "    cx3 = cx + 0.5 * dx2;\n",
    "    dx3 = f(cx3,lam) * dt;\n",
    "    cx4 = cx + dx3;\n",
    "    dx4 = f(cx4,lam) * dt;\n",
    "    cx  = cx + 1/6 * (dx1 + 2*dx2 + 2*dx3 + dx4);\n",
    "    x_rk4[i] = cx\n",
    "\n",
    "x = ode_sol(t,x0,lam)\n",
    "print(np.max(np.abs(x - x_rk4)))\n",
    "    \n",
    "plt.clf()\n",
    "plt.plot(t,x_rk4,t,x,'--')"
   ]
  },
  {
   "cell_type": "markdown",
   "metadata": {},
   "source": [
    "### Builtin ODE solver"
   ]
  },
  {
   "cell_type": "code",
   "execution_count": 6,
   "metadata": {},
   "outputs": [],
   "source": [
    "mod_f = lambda x,t: f(x,lam)\n",
    "x_odeint = integrate.odeint(mod_f,x0,t)"
   ]
  },
  {
   "cell_type": "code",
   "execution_count": 7,
   "metadata": {},
   "outputs": [
    {
     "name": "stdout",
     "output_type": "stream",
     "text": [
      "1.2397002779884758e-07\n"
     ]
    },
    {
     "data": {
      "text/plain": [
       "[<matplotlib.lines.Line2D at 0x7fea409defa0>,\n",
       " <matplotlib.lines.Line2D at 0x7fea50181160>]"
      ]
     },
     "execution_count": 7,
     "metadata": {},
     "output_type": "execute_result"
    },
    {
     "data": {
      "image/png": "[encoded data removed]",
      "text/plain": [
       "<Figure size 432x288 with 1 Axes>"
      ]
     },
     "metadata": {
      "needs_background": "light"
     },
     "output_type": "display_data"
    }
   ],
   "source": [
    "x = ode_sol(t,x0,lam)\n",
    "print(np.max(np.abs(x - x_odeint[:,0])))\n",
    "\n",
    "plt.clf()\n",
    "plt.plot(t,x_odeint,t,x,'--')\n"
   ]
  },
  {
   "cell_type": "markdown",
   "metadata": {},
   "source": [
    "## Exercise 3"
   ]
  },
  {
   "cell_type": "markdown",
   "metadata": {},
   "source": [
    "The equation in canonical form is\n",
    "$$\n",
    "\\frac{d}{dt} \\underbrace{\\begin{bmatrix}\n",
    "  p^x \\\\ p^y \\\\ \\varphi\n",
    "\\end{bmatrix}}_{\\mathbf{x}}\n",
    "= \\begin{bmatrix}\n",
    "  v \\, \\cos(\\varphi) \\\\ v \\, \\sin(\\varphi) \\\\ \\omega_{gyro}\n",
    "\\end{bmatrix}\n",
    "+\n",
    "\\begin{bmatrix}\n",
    "  1 & 0 & 0 \\\\ 0 & 1 & 0 \\\\ 0 & 0 & 1\n",
    "\\end{bmatrix}\n",
    "\\begin{bmatrix}\n",
    "  w_1 \\\\ w_2 \\\\ w_3\n",
    "\\end{bmatrix}\n",
    "$$\n",
    "which is\n",
    "$$\n",
    "  \\dot{\\mathbf{x}} = \\mathbf{f}(\\mathbf{x},\\mathbf{u}) + \\mathbf{B} \\, \\mathbf{w}\n",
    "$$\n",
    "where\n",
    "$$\n",
    "\\mathbf{x} = \\begin{bmatrix}\n",
    "  p^x \\\\ p^y \\\\ \\varphi\n",
    "\\end{bmatrix}, \\qquad \\mathbf{u} = \\begin{bmatrix}\n",
    "  v \\\\ \\omega_{gyro}\n",
    "\\end{bmatrix} \\\\\n",
    "\\mathbf{f}(\\mathbf{x},\\mathbf{u})\n",
    "= \\begin{bmatrix}\n",
    "  u_1 \\, \\cos(x_3) \\\\ u_1 \\, \\sin(x_3) \\\\ u_2\n",
    "\\end{bmatrix}, \\qquad \\mathbf{B} = \\mathbf{I}, \\qquad \\mathbf{w} = \\begin{bmatrix}\n",
    "  w_1 \\\\ w_2 \\\\ w_3\n",
    "\\end{bmatrix}\n",
    "$$\n"
   ]
  },
  {
   "cell_type": "markdown",
   "metadata": {},
   "source": [
    "### Robot dynamics without noise"
   ]
  },
  {
   "cell_type": "code",
   "execution_count": 1,
   "metadata": {},
   "outputs": [],
   "source": [
    "def fr(x,u):\n",
    "    return np.array([u[0] * np.cos(x[2]), u[0] * np.sin(x[2]), u[1]])"
   ]
  },
  {
   "cell_type": "code",
   "execution_count": 4,
   "metadata": {},
   "outputs": [],
   "source": [
    "x0 = np.array([0,0,0])\n",
    "dt = 0.1\n",
    "tr = np.arange(0,5+dt,dt)    "
   ]
  },
  {
   "cell_type": "code",
   "execution_count": 5,
   "metadata": {},
   "outputs": [
    {
     "data": {
      "text/plain": [
       "[<matplotlib.lines.Line2D at 0x7ff0ed26e9d0>]"
      ]
     },
     "execution_count": 5,
     "metadata": {},
     "output_type": "execute_result"
    },
    {
     "data": {
      "image/png": "[encoded data removed]",
      "text/plain": [
       "<Figure size 432x288 with 1 Axes>"
      ]
     },
     "metadata": {
      "needs_background": "light"
     },
     "output_type": "display_data"
    }
   ],
   "source": [
    "V = np.zeros((tr.shape[0],))\n",
    "Omega = np.zeros((tr.shape[0],))\n",
    "for k in range(tr.shape[0]):\n",
    "    if tr[k] < 1:\n",
    "        V[k] = tr[k]\n",
    "    elif tr[k] >= 4:\n",
    "        V[k] = 5 - tr[k]\n",
    "    else:\n",
    "        V[k] = 1\n",
    "        \n",
    "    if tr[k] < 2 or tr[k] >= 3:\n",
    "        Omega[k] = 0\n",
    "    else:\n",
    "        Omega[k] = math.pi / 2\n",
    "\n",
    "plt.clf()\n",
    "#plt.plot(tr,Omega)\n",
    "plt.plot(tr,V)"
   ]
  },
  {
   "cell_type": "code",
   "execution_count": 6,
   "metadata": {},
   "outputs": [
    {
     "name": "stdout",
     "output_type": "stream",
     "text": [
      "(51,)\n"
     ]
    },
    {
     "data": {
      "image/png": "[encoded data removed]",
      "text/plain": [
       "<Figure size 432x288 with 1 Axes>"
      ]
     },
     "metadata": {
      "needs_background": "light"
     },
     "output_type": "display_data"
    }
   ],
   "source": [
    "plt.plot(tr,Omega)\n",
    "print(Omega.shape)"
   ]
  },
  {
   "cell_type": "code",
   "execution_count": 7,
   "metadata": {},
   "outputs": [
    {
     "data": {
      "text/plain": [
       "Text(0.5, 1.0, 'Position')"
      ]
     },
     "execution_count": 7,
     "metadata": {},
     "output_type": "execute_result"
    },
    {
     "data": {
      "image/png": "[encoded data removed]",
      "text/plain": [
       "<Figure size 432x288 with 1 Axes>"
      ]
     },
     "metadata": {
      "needs_background": "light"
     },
     "output_type": "display_data"
    }
   ],
   "source": [
    "xr = np.zeros((tr.shape[0],3))\n",
    "cx = x0\n",
    "for k in range(1,tr.shape[0]):\n",
    "    u  = np.array([V[k-1],Omega[k-1]])\n",
    "    dt = tr[k] - tr[k-1]\n",
    "    cx = cx + dt * fr(cx,u);    \n",
    "    xr[k,:] = cx;\n",
    "    \n",
    "plt.clf()\n",
    "plt.plot(xr[:,0],xr[:,1])\n",
    "plt.xlabel('px')\n",
    "plt.ylabel('py')\n",
    "plt.title('Position')"
   ]
  },
  {
   "cell_type": "code",
   "execution_count": 8,
   "metadata": {},
   "outputs": [
    {
     "data": {
      "text/plain": [
       "Text(0.5, 1.0, 'Orientation')"
      ]
     },
     "execution_count": 8,
     "metadata": {},
     "output_type": "execute_result"
    },
    {
     "data": {
      "image/png": "[encoded data removed]",
      "text/plain": [
       "<Figure size 432x288 with 1 Axes>"
      ]
     },
     "metadata": {
      "needs_background": "light"
     },
     "output_type": "display_data"
    }
   ],
   "source": [
    "plt.clf()\n",
    "plt.plot(tr,xr[:,2])\n",
    "plt.title('Orientation')"
   ]
  },
  {
   "cell_type": "markdown",
   "metadata": {},
   "source": [
    "### Robot dynamics with noise"
   ]
  },
  {
   "cell_type": "code",
   "execution_count": 13,
   "metadata": {},
   "outputs": [
    {
     "data": {
      "text/plain": [
       "Text(0.5, 1.0, 'Position')"
      ]
     },
     "execution_count": 13,
     "metadata": {},
     "output_type": "execute_result"
    },
    {
     "data": {
      "image/png": "[encoded data removed]",
      "text/plain": [
       "<Figure size 432x288 with 1 Axes>"
      ]
     },
     "metadata": {
      "needs_background": "light"
     },
     "output_type": "display_data"
    }
   ],
   "source": [
    "xrn = np.zeros((tr.shape[0],3))\n",
    "cx = x0\n",
    "q1 = 0.01\n",
    "q2 = 0.01\n",
    "q3 = 0.01\n",
    "\n",
    "for k in range(1,tr.shape[0]):\n",
    "    u  = np.array([V[k-1],Omega[k-1]])\n",
    "    dt = tr[k] - tr[k-1]\n",
    "    w  = np.diag(np.sqrt(dt * np.array([q1,q2,q3]))) @ np.random.normal(size=(3,))\n",
    "    cx = cx + dt * fr(cx,u) + w;    \n",
    "    xrn[k,:] = cx;\n",
    "    \n",
    "plt.clf()\n",
    "plt.plot(xrn[:,0],xrn[:,1])\n",
    "plt.xlabel('px')\n",
    "plt.ylabel('py')\n",
    "plt.title('Position')"
   ]
  },
  {
   "cell_type": "code",
   "execution_count": 14,
   "metadata": {},
   "outputs": [
    {
     "data": {
      "text/plain": [
       "Text(0.5, 1.0, 'Orientation')"
      ]
     },
     "execution_count": 14,
     "metadata": {},
     "output_type": "execute_result"
    },
    {
     "data": {
      "image/png": "[encoded data removed]",
      "text/plain": [
       "<Figure size 432x288 with 1 Axes>"
      ]
     },
     "metadata": {
      "needs_background": "light"
     },
     "output_type": "display_data"
    }
   ],
   "source": [
    "plt.clf()\n",
    "plt.plot(tr,xrn[:,2])\n",
    "plt.title('Orientation')"
   ]
  },
  {
   "cell_type": "code",
   "execution_count": null,
   "metadata": {},
   "outputs": [],
   "source": []
  }
 ],
 "metadata": {
  "kernelspec": {
   "display_name": "Python 3",
   "language": "python",
   "name": "python3"
  },
  "language_info": {
   "codemirror_mode": {
    "name": "ipython",
    "version": 3
   },
   "file_extension": ".py",
   "mimetype": "text/x-python",
   "name": "python",
   "nbconvert_exporter": "python",
   "pygments_lexer": "ipython3",
   "version": "3.8.6"
  }
 },
 "nbformat": 4,
 "nbformat_minor": 5
}
