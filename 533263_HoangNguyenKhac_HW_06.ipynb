{
 "cells": [
  {
   "cell_type": "markdown",
   "metadata": {},
   "source": [
    "### Homework 6\n",
    "\n",
    "#### ELEC-E8740 - Basics of sensor fusion Autumn'21\n",
    "#### Problem description:\n",
    "\n",
    "Consider the scalar differential equation\n",
    "\n",
    "\\begin{equation}\n",
    "\\dot{x} = fx \\\\\n",
    "x(0) = x_0\n",
    "\\end{equation}\n",
    "with $f = -1/2$ and $x_0 = 3$"
   ]
  },
  {
   "cell_type": "markdown",
   "metadata": {},
   "source": [
    "### (a) Solve the equation analytically"
   ]
  },
  {
   "cell_type": "markdown",
   "metadata": {},
   "source": [
    "The equation can be expressed as:\n",
    "\n",
    "\\begin{equation}\n",
    "\\frac{dx}{dt} = -\\frac{1}{2}x \\\\\n",
    "\\frac{1}{x}dx = -\\frac{1}{2}dt\n",
    "\\end{equation}\n",
    "\n",
    "Take integral for both sides\n",
    "\\begin{equation}\n",
    "\\int \\frac{1}{x}\\, dx = \\int -\\frac{1}{2}\\,dt\n",
    "\\end{equation}\n",
    "\n",
    "Solving both integral gives:\n",
    "\n",
    "\\begin{equation}\n",
    "\\ln|x| + C_1 = -\\frac{1}{2}t + C_2 \\\\\n",
    "let \\quad C = C_2 - C_1\n",
    "\\end{equation}\n",
    "\n",
    "Solving for x:\n",
    "\n",
    "\\begin{equation}\n",
    "x = \\pm e^{-\\frac{1}{2}t + C} \\\\\n",
    "\\rightarrow \\quad x = \\pm e^Ce^{-\\frac{1}{2}t}\n",
    "\\end{equation}\n",
    "\n",
    "Use the initial condition $x_0 = 3$ to solve for C:\n",
    "\\begin{equation}\n",
    "e^Ce^{-\\frac{1}{2}*0} = 3\n",
    "\\rightarrow \\quad C = 3\n",
    "\\end{equation}\n",
    "\n",
    "Analytical solution for x is:\n",
    "\\begin{equation}\n",
    "x = 3e^{-\\frac{1}{2}t}\n",
    "\\end{equation}"
   ]
  },
  {
   "cell_type": "code",
   "execution_count": 22,
   "metadata": {},
   "outputs": [],
   "source": [
    "%matplotlib inline\n",
    "import numpy as np\n",
    "import scipy.linalg as linalg\n",
    "import scipy.integrate as integrate\n",
    "import math\n",
    "import matplotlib.pyplot as plt\n",
    "\n",
    "t = np.linspace(0,10,100)\n",
    "x0 = 3\n",
    "C = 3\n",
    "f = -1/2\n",
    "\n",
    "x = C*np.exp(-1/2*t)"
   ]
  },
  {
   "cell_type": "markdown",
   "metadata": {},
   "source": [
    "### (b) Solve the equation by Euler's method:\n",
    "Apply Euler's method to this problem, we have:\n",
    "\n",
    "\\begin{equation}\n",
    "x(t +\\Delta t) = x(t) + (-\\frac{1}{2}x)\\Delta t\n",
    "\\end{equation}"
   ]
  },
  {
   "cell_type": "code",
   "execution_count": 23,
   "metadata": {},
   "outputs": [],
   "source": [
    "x0 = 3\n",
    "x_Euler = np.zeros((t.shape[0]))\n",
    "x_Euler[0] = x0\n",
    "\n",
    "for i in range(1,t.shape[0]):\n",
    "    x1 = x0 + f*x0*(t[i]-t[i-1])\n",
    "    x0 = x1\n",
    "    x_Euler[i] = x1"
   ]
  },
  {
   "cell_type": "markdown",
   "metadata": {},
   "source": [
    "### (c) Solve the equation by using builtin solver:\n",
    "- Use Python's odeint"
   ]
  },
  {
   "cell_type": "code",
   "execution_count": 24,
   "metadata": {},
   "outputs": [],
   "source": [
    "def func(x,t):\n",
    "    return f*x\n",
    "x0 = 3\n",
    "x_ODE = integrate.odeint(func,x0,t)"
   ]
  },
  {
   "cell_type": "markdown",
   "metadata": {},
   "source": [
    "### (d) Visualize the 3 solutions"
   ]
  },
  {
   "cell_type": "code",
   "execution_count": 25,
   "metadata": {},
   "outputs": [
    {
     "data": {
      "image/png": "[encoded data removed]",
      "text/plain": [
       "<Figure size 432x288 with 1 Axes>"
      ]
     },
     "metadata": {
      "needs_background": "light"
     },
     "output_type": "display_data"
    }
   ],
   "source": [
    "plt.clf()\n",
    "plt.plot(t,x,'bo', label='x')\n",
    "plt.plot(t,x_Euler,'r*', label='x_Euler')\n",
    "plt.plot(t,x_ODE,'g--', label='x_ODE')\n",
    "plt.xlabel('t')\n",
    "plt.ylabel('Output')\n",
    "plt.legend(loc = 'upper right')\n",
    "plt.grid()\n",
    "plt.show()"
   ]
  }
 ],
 "metadata": {
  "kernelspec": {
   "display_name": "Python 3",
   "language": "python",
   "name": "python3"
  },
  "language_info": {
   "codemirror_mode": {
    "name": "ipython",
    "version": 3
   },
   "file_extension": ".py",
   "mimetype": "text/x-python",
   "name": "python",
   "nbconvert_exporter": "python",
   "pygments_lexer": "ipython3",
   "version": "3.8.6"
  }
 },
 "nbformat": 4,
 "nbformat_minor": 4
}
