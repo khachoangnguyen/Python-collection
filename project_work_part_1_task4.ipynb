{
 "cells": [
  {
   "cell_type": "code",
   "execution_count": 20,
   "metadata": {},
   "outputs": [],
   "source": [
    "import numpy as np\n",
    "import pandas as pd\n",
    "import matplotlib.pyplot as plt"
   ]
  },
  {
   "cell_type": "code",
   "execution_count": 21,
   "metadata": {},
   "outputs": [
    {
     "name": "stdout",
     "output_type": "stream",
     "text": [
      "Shape of the input is:  (7, 2)\n",
      "Shape of the input is:  (99, 3)\n"
     ]
    }
   ],
   "source": [
    "input_data4 = pd.read_csv('robot_speed_task4.csv',header=None)\n",
    "print(\"Shape of the input is: \", input_data4.shape)\n",
    "\n",
    "input_data5 = pd.read_csv('motor_control_reading_task4.csv',header=None)\n",
    "print(\"Shape of the input is: \", input_data5.shape)"
   ]
  },
  {
   "cell_type": "code",
   "execution_count": 22,
   "metadata": {},
   "outputs": [
    {
     "name": "stdout",
     "output_type": "stream",
     "text": [
      "Moving point (cm):\n",
      "0     40\n",
      "1     80\n",
      "2    120\n",
      "3    160\n",
      "4    200\n",
      "5    240\n",
      "6    280\n",
      "Name: 0, dtype: int64\n",
      "Elapsed time (s):\n",
      "0    9.04\n",
      "1    5.76\n",
      "2    7.02\n",
      "3    6.42\n",
      "4    6.65\n",
      "5    6.08\n",
      "6    6.76\n",
      "Name: 1, dtype: float64\n"
     ]
    }
   ],
   "source": [
    "# the distance (cm) that the robot moved forward.\n",
    "distance_forward = input_data4.iloc[:,0]\n",
    "print('Moving point (cm):')\n",
    "print(distance_forward)\n",
    "# the time lapse (s) that the robot moved at each 40 cm interval\n",
    "time_lapse = input_data4.iloc[:,1]\n",
    "print('Elapsed time (s):')\n",
    "print(time_lapse)"
   ]
  },
  {
   "cell_type": "markdown",
   "metadata": {},
   "source": [
    "### Task 4\n",
    "There are two columns in the measurement record log ﬁle. The ﬁrst represents\n",
    "the distance (in cm) measured from the measuring tape and the second column\n",
    "represents the measured time (in s). You need to determine the speed of the robot.\n",
    "Write down the results in your report. Note that, you need to determine the\n",
    "distance interval from the given log ﬁle."
   ]
  },
  {
   "cell_type": "code",
   "execution_count": 31,
   "metadata": {},
   "outputs": [
    {
     "name": "stdout",
     "output_type": "stream",
     "text": [
      "Distance interval from log file:\n",
      "40\n",
      "40\n",
      "40\n",
      "40\n",
      "40\n",
      "40\n",
      "40\n"
     ]
    }
   ],
   "source": [
    "print('Distance interval from log file:')\n",
    "starting_point = 0\n",
    "for i in range(7):\n",
    "    distance_interval = distance_forward.iloc[i]- starting_point\n",
    "    print(distance_interval)\n",
    "    starting_point = distance_forward.iloc[i]"
   ]
  },
  {
   "cell_type": "markdown",
   "metadata": {},
   "source": [
    "- Moving distance at each interval is always 40 cm, then the speed at each distance interval is calculated as:"
   ]
  },
  {
   "cell_type": "code",
   "execution_count": 38,
   "metadata": {},
   "outputs": [
    {
     "name": "stdout",
     "output_type": "stream",
     "text": [
      "Speed at each distance interval:\n",
      "4.424778761061948\n",
      "6.944444444444445\n",
      "5.698005698005699\n",
      "6.230529595015576\n",
      "6.015037593984962\n",
      "6.578947368421052\n",
      "5.9171597633136095\n"
     ]
    }
   ],
   "source": [
    "print('Speed at each distance interval:') \n",
    "for i in range(7):\n",
    "    speed = distance_interval/time_lapse[i]\n",
    "    print(speed)"
   ]
  },
  {
   "cell_type": "markdown",
   "metadata": {},
   "source": [
    "- The IMU log ﬁles column are, the Timestamp in ms, ﬁrst and second inputs as a percentage of pulse width modulation (PWM). \n",
    "- The input signal is between 0-1.\n",
    "- It is shown in the following figure"
   ]
  },
  {
   "cell_type": "code",
   "execution_count": 14,
   "metadata": {},
   "outputs": [
    {
     "data": {
      "text/plain": [
       "[<matplotlib.lines.Line2D at 0x7fc443695970>]"
      ]
     },
     "execution_count": 14,
     "metadata": {},
     "output_type": "execute_result"
    },
    {
     "data": {
      "image/png": "[encoded data removed]",
      "text/plain": [
       "<Figure size 432x288 with 1 Axes>"
      ]
     },
     "metadata": {
      "needs_background": "light"
     },
     "output_type": "display_data"
    }
   ],
   "source": [
    "plt.plot(input_data5.iloc[:,1],'b')\n",
    "plt.plot(input_data5.iloc[:,2],'g')"
   ]
  }
 ],
 "metadata": {
  "kernelspec": {
   "display_name": "Python 3",
   "language": "python",
   "name": "python3"
  },
  "language_info": {
   "codemirror_mode": {
    "name": "ipython",
    "version": 3
   },
   "file_extension": ".py",
   "mimetype": "text/x-python",
   "name": "python",
   "nbconvert_exporter": "python",
   "pygments_lexer": "ipython3",
   "version": "3.9.5"
  }
 },
 "nbformat": 4,
 "nbformat_minor": 4
}
