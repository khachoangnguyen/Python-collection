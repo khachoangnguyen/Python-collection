{
 "cells": [
  {
   "cell_type": "markdown",
   "metadata": {},
   "source": [
    "### Homework 5\n",
    "\n",
    "#### ELEC-E8740 - Basics of sensor fusion Autumn'21\n",
    "#### Problem description:\n",
    "\n",
    "Implement Gauss-Newton with line search algorithm to minimize $J(x) = (1.1 − x - sin(x))^2$.\n",
    "Use grid search with grid $\\gamma \\in [0, 1/10, 2/10,...,1]$"
   ]
  },
  {
   "cell_type": "markdown",
   "metadata": {},
   "source": [
    "The update rule is given by\n",
    "\\begin{equation}\n",
    "\\hat{\\mathbf{x}}^{(i+1)}\n",
    "        = \\hat{\\mathbf{x}}^{(i)} + \\gamma \\Delta \\hat{\\mathbf{x}}^{(i+1)} \n",
    "\\label{eq:gen_gd_update}\n",
    "\\end{equation}\n",
    "\n",
    "The update direction is defined as\n",
    "\\begin{equation}\n",
    "\\Delta \\hat{\\mathbf{x}}^{(i+1)}\n",
    "        = (G_x^T(\\hat{\\mathbf{x}}^{(i)})R^{-1}G_x(\\hat{\\mathbf{x}}^{(i)}))^{-1}G_x^T(\\hat{\\mathbf{x}}^{(i)})R^{-1}( y-g(\\hat{\\mathbf{x}}^{(i)}))\n",
    "\\end{equation}"
   ]
  },
  {
   "cell_type": "markdown",
   "metadata": {},
   "source": []
  },
  {
   "cell_type": "code",
   "execution_count": 109,
   "metadata": {},
   "outputs": [],
   "source": [
    "%matplotlib inline\n",
    "# import necessary libraries\n",
    "import numpy as np\n",
    "import matplotlib.pyplot as plt"
   ]
  },
  {
   "cell_type": "code",
   "execution_count": null,
   "metadata": {},
   "outputs": [],
   "source": []
  },
  {
   "cell_type": "markdown",
   "metadata": {},
   "source": [
    "### Define functions"
   ]
  },
  {
   "cell_type": "code",
   "execution_count": 110,
   "metadata": {},
   "outputs": [
    {
     "name": "stdout",
     "output_type": "stream",
     "text": [
      "g(x)= [3.14112001]\n",
      "cost= [4.16617089]\n",
      "J(x)= [0.0100075]\n"
     ]
    }
   ],
   "source": [
    "# function\n",
    "def g(x):\n",
    "    return np.array(x + np.sin(x))\n",
    "# cost function\n",
    "def cost(y, g, x):\n",
    "    return (y - g(x))**2\n",
    "# Jacobian of J\n",
    "def J(x):\n",
    "    return np.array(1 + np.cos(x))\n",
    "\n",
    "x = np.array([3])\n",
    "y = np.array([1.1])\n",
    "print('g(x)=', g(x))\n",
    "print('cost=', cost(y, g, x))\n",
    "print('J(x)=', J(x))"
   ]
  },
  {
   "cell_type": "markdown",
   "metadata": {},
   "source": [
    "#### Plot cost function"
   ]
  },
  {
   "cell_type": "code",
   "execution_count": 111,
   "metadata": {},
   "outputs": [
    {
     "data": {
      "image/png": "[encoded data removed]",
      "text/plain": [
       "<Figure size 432x288 with 1 Axes>"
      ]
     },
     "metadata": {
      "needs_background": "light"
     },
     "output_type": "display_data"
    }
   ],
   "source": [
    "xx = np.linspace(-10, 10, 1000)\n",
    "costJ = [cost(y,g,i) for i in xx]\n",
    "grad = [J(i) for i in xx]\n",
    "plt.plot(xx, costJ, linestyle='-', label='cost(x)')\n",
    "plt.plot(xx, grad, linestyle='-', label=r'$\\frac{\\partial J (x)}{ \\partial x}$')\n",
    "plt.legend()\n",
    "plt.grid()\n",
    "plt.title('Cost function and its gradient')\n",
    "plt.show()"
   ]
  },
  {
   "cell_type": "markdown",
   "metadata": {},
   "source": [
    "#### Gauss-Newton with line search"
   ]
  },
  {
   "cell_type": "code",
   "execution_count": 118,
   "metadata": {},
   "outputs": [],
   "source": [
    "def gauss_newton(g, x0, y, Ri, N):\n",
    "    '''\n",
    "    Gauss Newton with line search algorithm that minimizes cost(x)\n",
    "    '''\n",
    "    \n",
    "    x0_path = np.zeros(N+1)\n",
    "    y0_path = np.zeros(N+1)\n",
    "    x0_path[0] = x0\n",
    "    y0_path[0] = cost(y, g, x0)\n",
    "    \n",
    "    loss = []\n",
    "    loss.append(y0_path[0])\n",
    "    \n",
    "    x_est = x0\n",
    "    for i in range(N):\n",
    "        Gv = J(x_est)\n",
    "        dx = 1/(Gv * Ri * Gv) * Gv * Ri * (y - g(x_est))\n",
    "        \n",
    "        min_cost = cost(y, g, x_est)\n",
    "        min_gam = 0\n",
    "        \n",
    "        for j in range(0,N):\n",
    "            gam = j / N\n",
    "            x_new = x_est + gam * dx\n",
    "            curr_cost = cost(y, g, x_new)\n",
    "            if curr_cost < min_cost:\n",
    "                min_gam = gam\n",
    "                min_cost = curr_cost\n",
    "        \n",
    "        x_est = x_est + min_gam * dx\n",
    "        x0_path[i+1] = x_est[0]\n",
    "        y0_path[i+1] = curr_cost\n",
    "        loss.append(curr_cost - y0_path[i])\n",
    "        print(x_est)\n",
    "\n",
    "    print('local minima x = ', x_est, ', current cost = ', curr_cost)\n",
    "    \n",
    "    return x0_path, y0_path, loss\n"
   ]
  },
  {
   "cell_type": "markdown",
   "metadata": {},
   "source": [
    "### Initialize parameters"
   ]
  },
  {
   "cell_type": "code",
   "execution_count": 119,
   "metadata": {},
   "outputs": [],
   "source": [
    "y = np.array([1.1])\n",
    "Ri = np.array([1])\n",
    "x0 = np.array([2.5])\n",
    "N = 10"
   ]
  },
  {
   "cell_type": "code",
   "execution_count": 120,
   "metadata": {},
   "outputs": [
    {
     "name": "stdout",
     "output_type": "stream",
     "text": [
      "[0.49003472]\n",
      "[0.55664301]\n",
      "[0.56395289]\n",
      "[0.56469232]\n",
      "[0.56476636]\n",
      "[0.56477376]\n",
      "[0.5647745]\n",
      "[0.56477457]\n",
      "[0.56477458]\n",
      "[0.56477458]\n",
      "local minima x =  [0.56477458] , current cost =  [2.30310114e-20]\n"
     ]
    },
    {
     "data": {
      "text/plain": [
       "[<matplotlib.lines.Line2D at 0x7f44f2b64d00>]"
      ]
     },
     "execution_count": 120,
     "metadata": {},
     "output_type": "execute_result"
    },
    {
     "data": {
      "image/png": "[encoded data removed]",
      "text/plain": [
       "<Figure size 432x288 with 1 Axes>"
      ]
     },
     "metadata": {
      "needs_background": "light"
     },
     "output_type": "display_data"
    }
   ],
   "source": [
    "# compute \n",
    "x0_path, y0_path, loss = gauss_newton(g, x0, y, Ri, N)\n",
    "plt.plot(xx,costJ)\n",
    "plt.plot(x0_path,y0_path,'*-')     \n"
   ]
  },
  {
   "cell_type": "code",
   "execution_count": 121,
   "metadata": {},
   "outputs": [
    {
     "name": "stderr",
     "output_type": "stream",
     "text": [
      "/opt/conda/lib/python3.8/site-packages/numpy/core/_asarray.py:136: VisibleDeprecationWarning: Creating an ndarray from ragged nested sequences (which is a list-or-tuple of lists-or-tuples-or ndarrays with different lengths or shapes) is deprecated. If you meant to do this, you must specify 'dtype=object' when creating the ndarray\n",
      "  return array(a, dtype, copy=False, order=order, subok=True)\n"
     ]
    },
    {
     "data": {
      "image/png": "[encoded data removed]",
      "text/plain": [
       "<Figure size 432x288 with 1 Axes>"
      ]
     },
     "metadata": {
      "needs_background": "light"
     },
     "output_type": "display_data"
    }
   ],
   "source": [
    "# plot loss\n",
    "plt.plot(loss, 'o-')\n",
    "plt.grid()\n",
    "plt.title('Loss function')\n",
    "plt.ylabel(r'$J(x)$')\n",
    "plt.show()"
   ]
  },
  {
   "cell_type": "code",
   "execution_count": null,
   "metadata": {},
   "outputs": [],
   "source": []
  }
 ],
 "metadata": {
  "kernelspec": {
   "display_name": "Python 3",
   "language": "python",
   "name": "python3"
  },
  "language_info": {
   "codemirror_mode": {
    "name": "ipython",
    "version": 3
   },
   "file_extension": ".py",
   "mimetype": "text/x-python",
   "name": "python",
   "nbconvert_exporter": "python",
   "pygments_lexer": "ipython3",
   "version": "3.8.6"
  }
 },
 "nbformat": 4,
 "nbformat_minor": 4
}
